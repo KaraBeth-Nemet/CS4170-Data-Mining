{
 "cells": [
  {
   "cell_type": "code",
   "execution_count": null,
   "metadata": {},
   "outputs": [],
   "source": [
    "# Author : Kara Nemet\n",
    "# Date : 9/3/2024\n",
    "# Purpose: Read in a csv file and create a scatter plot of the data\n",
    "\n",
    "import pandas as pd\n",
    "import matplotlib.pyplot as plt\n",
    "\n",
    "data = pd.read_csv('mutations.csv', index_col=0)\n",
    "\n",
    "data "
   ]
  },
  {
   "cell_type": "code",
   "execution_count": null,
   "metadata": {},
   "outputs": [],
   "source": [
    "#(1) to identify outlier samples:\n",
    "# a. y-axis: number of mutations per sample\n",
    "# b. x-axis: sample\n",
    "\n",
    "# find the number of mutations per sample\n",
    "mutations_per_sample = data.sum(axis=1)\n",
    "\n",
    "plt.figure(figsize=(50, 10))\n",
    "plt.ylabel('Number of Mutations/Sample')\n",
    "plt.xlabel('Sample')\n",
    "plt.scatter(mutations_per_sample.index, mutations_per_sample)"
   ]
  },
  {
   "cell_type": "code",
   "execution_count": null,
   "metadata": {},
   "outputs": [],
   "source": [
    "#(2) if there are any outlier genetic mutations:\n",
    "#a. y-axis: number of samples per mutation\n",
    "#b. x-axis: mutations\n",
    "\n",
    "# find the number of samples per mutation\n",
    "samples_per_mutation = data.sum(axis=0)\n",
    "\n",
    "plt.figure(figsize=(50, 10))\n",
    "plt.ylabel('Number of Samples/Mutation')\n",
    "plt.xlabel('Mutation')\n",
    "plt.scatter(samples_per_mutation.index, samples_per_mutation)"
   ]
  },
  {
   "cell_type": "markdown",
   "metadata": {},
   "source": [
    "Column 1: top 10 features, when ranked by T (total occurrences in all samples)\\\n",
    "Column 2: top 10 features, when ranked by C (total occurrences in C samples)\\\n",
    "Column 3: top 10 features, when ranked by NC (total occurrences in NC samples)\\\n",
    "Column 4: top 10 features, when ranked by %C\\\n",
    "Column 5: top 10 features, when ranked by %NC\\\n",
    "Column 6: top 10 features, when ranked by %C - %NC\\\n",
    "Column 7: top 10 features, when ranked by %C - %NC"
   ]
  },
  {
   "cell_type": "code",
   "execution_count": 49,
   "metadata": {},
   "outputs": [
    {
     "name": "stdout",
     "output_type": "stream",
     "text": [
      "C0      0\n",
      "C1      5\n",
      "NC0     0\n",
      "C2      0\n",
      "NC1     0\n",
      "       ..\n",
      "C46     3\n",
      "C47     4\n",
      "NC59    0\n",
      "NC60    0\n",
      "C48     0\n",
      "Length: 110, dtype: int64\n"
     ]
    }
   ],
   "source": [
    "#Find the top 10 mutations with the highest total occurrences in ALL samples\n",
    "\n",
    "top_10_mutations = samples_per_mutation.sort_values(ascending=False).head(10)\n",
    "\n",
    "\n",
    "# add whole colums of each mutations to a new dataframe\n",
    "\n",
    "top_10_mutations_df = data[top_10_mutations.index]\n",
    "top_10_mutations_df\n",
    "\n",
    "#find total number of mutations per sample for the top 10 mutations\n",
    "\n",
    "T = top_10_mutations_df.sum(axis=1)\n",
    "print (T)\n",
    "\n",
    "\n"
   ]
  }
 ],
 "metadata": {
  "kernelspec": {
   "display_name": "Python 3",
   "language": "python",
   "name": "python3"
  },
  "language_info": {
   "codemirror_mode": {
    "name": "ipython",
    "version": 3
   },
   "file_extension": ".py",
   "mimetype": "text/x-python",
   "name": "python",
   "nbconvert_exporter": "python",
   "pygments_lexer": "ipython3",
   "version": "3.12.1"
  }
 },
 "nbformat": 4,
 "nbformat_minor": 2
}
